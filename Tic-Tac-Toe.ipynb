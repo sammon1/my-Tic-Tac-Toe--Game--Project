{
 "cells": [
  {
   "cell_type": "code",
   "execution_count": 103,
   "id": "9769ce9d",
   "metadata": {},
   "outputs": [],
   "source": [
    "def play(board):\n",
    "    print(f\"| {board[0]} | {board[1]} | {board[2]} |\")\n",
    "    print(f\"| {board[3]} | {board[4]} | {board[5]} |\")\n",
    "    print(f\"| {board[6]} | {board[7]} | {board[8]} |\")\n",
    "    print()\n",
    "\n",
    "def Check_Winner(board, player):\n",
    "    # Winning combinations (horizontally, vertically, diagonally)\n",
    "    combos = [\n",
    "         (0, 1, 2), (3, 4, 5), (6, 7, 8),\n",
    "         (0, 3, 6), (1, 4, 7), (2, 5, 8),\n",
    "         (0, 4, 8), (2, 4, 6)\n",
    "        ]\n",
    "    return any(board[a] == board[b] == board[c] == player for a, b, c in combos)\n",
    "\n",
    "def tic_tac_toe():\n",
    "    board = [\" \"] * 10\n",
    "    current_player = \"X\"\n",
    "    for turn in range(10):\n",
    "        play(board)\n",
    "        move = int(input(f\"{current_player}, choose a position between (0-8): \"))\n",
    "        if board[move] != \" \" and board[move] == \"9\":\n",
    "            print(\"That spot's taken! Try again.\")\n",
    "            continue           \n",
    "        board[move] = current_player\n",
    "        if Check_Winner(board, current_player):\n",
    "            play(board)\n",
    "            print(f\"Ta-daah... Player {current_player} wins!\")\n",
    "            return         \n",
    "    # Switch player\n",
    "        current_player = \"O\" if current_player == \"X\" else \"X\"  \n",
    "    play(board)\n",
    "\n",
    "tic_tac_toe()"
   ]
  },
  {
   "cell_type": "code",
   "execution_count": null,
   "id": "c4f33ae4",
   "metadata": {},
   "outputs": [],
   "source": []
  }
 ],
 "metadata": {
  "kernelspec": {
   "display_name": "Python 3 (ipykernel)",
   "language": "python",
   "name": "python3"
  },
  "language_info": {
   "codemirror_mode": {
    "name": "ipython",
    "version": 3
   },
   "file_extension": ".py",
   "mimetype": "text/x-python",
   "name": "python",
   "nbconvert_exporter": "python",
   "pygments_lexer": "ipython3",
   "version": "3.10.9"
  }
 },
 "nbformat": 4,
 "nbformat_minor": 5
}
