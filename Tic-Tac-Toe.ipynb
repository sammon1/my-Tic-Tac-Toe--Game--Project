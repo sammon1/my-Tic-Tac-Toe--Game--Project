def play(board):
    print(f"| {board[0]} | {board[1]} | {board[2]} |")
    print(f"| {board[3]} | {board[4]} | {board[5]} |")
    print(f"| {board[6]} | {board[7]} | {board[8]} |")
    print()

def Check_Winner(board, player):
    # Winning combinations (horizontally, vertically, diagonally)
    combos = [
         (0, 1, 2), (3, 4, 5), (6, 7, 8),
         (0, 3, 6), (1, 4, 7), (2, 5, 8),
         (0, 4, 8), (2, 4, 6)
        ]
    return any(board[a] == board[b] == board[c] == player for a, b, c in combos)

def tic_tac_toe():
    board = [" "] * 10
    current_player = "X"
    for turn in range(10):
        play(board)
        move = int(input(f"{current_player}, choose a position between (0-8): "))
        if board[move] != " " and board[move] == "9":
            print("That spot's taken! Try again.")
            continue           
        board[move] = current_player
        if Check_Winner(board, current_player):
            play(board)
            print(f"Ta-daah... Player {current_player} wins!")
            return         
    # Switch player
        current_player = "O" if current_player == "X" else "X"  
    play(board)

tic_tac_toe()
